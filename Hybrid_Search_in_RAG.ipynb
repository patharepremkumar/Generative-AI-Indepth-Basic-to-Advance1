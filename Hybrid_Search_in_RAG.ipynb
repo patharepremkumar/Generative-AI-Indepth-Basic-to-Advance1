{
  "nbformat": 4,
  "nbformat_minor": 0,
  "metadata": {
    "colab": {
      "provenance": [],
      "authorship_tag": "ABX9TyN8Uf71mxyjP+uOXTt09AvX",
      "include_colab_link": true
    },
    "kernelspec": {
      "name": "python3",
      "display_name": "Python 3"
    },
    "language_info": {
      "name": "python"
    }
  },
  "cells": [
    {
      "cell_type": "markdown",
      "metadata": {
        "id": "view-in-github",
        "colab_type": "text"
      },
      "source": [
        "<a href=\"https://colab.research.google.com/github/patharepremkumar/Generative-AI-Indepth-Basic-to-Advance1/blob/main/Hybrid_Search_in_RAG.ipynb\" target=\"_parent\"><img src=\"https://colab.research.google.com/assets/colab-badge.svg\" alt=\"Open In Colab\"/></a>"
      ]
    },
    {
      "cell_type": "code",
      "execution_count": 2,
      "metadata": {
        "id": "nFW6IKRhmTae"
      },
      "outputs": [],
      "source": [
        "from sklearn.feature_extraction.text import TfidfVectorizer\n",
        "from sklearn.metrics.pairwise import cosine_similarity\n",
        "import numpy as np\n",
        "import pandas as pd"
      ]
    },
    {
      "cell_type": "code",
      "source": [
        "\n",
        "# Sample documents\n",
        "documents = [\n",
        "    \"This is a list which containig sample documents.\",\n",
        "    \"Keywords are important for keyword-based search.\",\n",
        "    \"Document analysis involves extracting keywords.\",\n",
        "    \"Keyword-based search relies on sparse embeddings.\"\n",
        "]"
      ],
      "metadata": {
        "id": "hdlnF1bamu2T"
      },
      "execution_count": 3,
      "outputs": []
    },
    {
      "cell_type": "code",
      "source": [
        "query=\"keyword-based search\""
      ],
      "metadata": {
        "id": "caouquUinOsm"
      },
      "execution_count": 4,
      "outputs": []
    },
    {
      "cell_type": "code",
      "source": [
        "import re\n",
        "def preprocess_text(text):\n",
        "    text = text.lower()\n",
        "    text = re.sub(r'[^\\w\\s]', '', text)\n",
        "    return text"
      ],
      "metadata": {
        "id": "rqnAgNrxnUg7"
      },
      "execution_count": 6,
      "outputs": []
    },
    {
      "cell_type": "code",
      "source": [
        "preprocess_documents=[preprocess_text(doc) for doc in documents]\n",
        "preprocess_documents"
      ],
      "metadata": {
        "id": "gLidgl1JnbES",
        "outputId": "90cda139-96db-45b8-b74e-dc887e71fc5f",
        "colab": {
          "base_uri": "https://localhost:8080/"
        }
      },
      "execution_count": 8,
      "outputs": [
        {
          "output_type": "execute_result",
          "data": {
            "text/plain": [
              "['this is a list which containig sample documents',\n",
              " 'keywords are important for keywordbased search',\n",
              " 'document analysis involves extracting keywords',\n",
              " 'keywordbased search relies on sparse embeddings']"
            ]
          },
          "metadata": {},
          "execution_count": 8
        }
      ]
    },
    {
      "cell_type": "code",
      "source": [
        "preprocessed_query = preprocess_text(query)\n",
        "preprocessed_query"
      ],
      "metadata": {
        "id": "dQJXbIChnx0Z",
        "outputId": "d8076b98-8aa0-4d39-d3bb-e1a6a66a153f",
        "colab": {
          "base_uri": "https://localhost:8080/",
          "height": 36
        }
      },
      "execution_count": 9,
      "outputs": [
        {
          "output_type": "execute_result",
          "data": {
            "text/plain": [
              "'keywordbased search'"
            ],
            "application/vnd.google.colaboratory.intrinsic+json": {
              "type": "string"
            }
          },
          "metadata": {},
          "execution_count": 9
        }
      ]
    },
    {
      "cell_type": "code",
      "source": [
        "vector=TfidfVectorizer()"
      ],
      "metadata": {
        "id": "HzJ_Szm7oQmt"
      },
      "execution_count": 10,
      "outputs": []
    },
    {
      "cell_type": "code",
      "source": [
        "x = vector.fit_transform(preprocess_documents)"
      ],
      "metadata": {
        "id": "wQmjdGZdoZSM"
      },
      "execution_count": 12,
      "outputs": []
    },
    {
      "cell_type": "code",
      "source": [
        "x.toarray()[0]"
      ],
      "metadata": {
        "id": "hsH-w4Ubomsh",
        "outputId": "fbde30ec-3bc1-4de4-a645-d0c791f246f2",
        "colab": {
          "base_uri": "https://localhost:8080/"
        }
      },
      "execution_count": 15,
      "outputs": [
        {
          "output_type": "execute_result",
          "data": {
            "text/plain": [
              "array([0.        , 0.        , 0.37796447, 0.        , 0.37796447,\n",
              "       0.        , 0.        , 0.        , 0.        , 0.        ,\n",
              "       0.37796447, 0.        , 0.        , 0.37796447, 0.        ,\n",
              "       0.        , 0.37796447, 0.        , 0.        , 0.37796447,\n",
              "       0.37796447])"
            ]
          },
          "metadata": {},
          "execution_count": 15
        }
      ]
    },
    {
      "cell_type": "code",
      "source": [
        "query_embedding=vector.transform([preprocessed_query])"
      ],
      "metadata": {
        "id": "cPJy12uJopnG"
      },
      "execution_count": 16,
      "outputs": []
    },
    {
      "cell_type": "code",
      "source": [
        "query_embedding.toarray()"
      ],
      "metadata": {
        "id": "Fe1YdP_6o3Rv",
        "outputId": "cecc751e-c495-4f6e-a8db-8a1dac6e245e",
        "colab": {
          "base_uri": "https://localhost:8080/"
        }
      },
      "execution_count": 17,
      "outputs": [
        {
          "output_type": "execute_result",
          "data": {
            "text/plain": [
              "array([[0.        , 0.        , 0.        , 0.        , 0.        ,\n",
              "        0.        , 0.        , 0.        , 0.        , 0.        ,\n",
              "        0.        , 0.70710678, 0.        , 0.        , 0.        ,\n",
              "        0.        , 0.        , 0.70710678, 0.        , 0.        ,\n",
              "        0.        ]])"
            ]
          },
          "metadata": {},
          "execution_count": 17
        }
      ]
    },
    {
      "cell_type": "code",
      "source": [
        "similarities = cosine_similarity(x, query_embedding)\n",
        "similarities"
      ],
      "metadata": {
        "id": "oNoXNhTeo52p",
        "outputId": "6443cea5-321b-4b48-c235-a336f8ff4539",
        "colab": {
          "base_uri": "https://localhost:8080/"
        }
      },
      "execution_count": 20,
      "outputs": [
        {
          "output_type": "execute_result",
          "data": {
            "text/plain": [
              "array([[0.        ],\n",
              "       [0.50551777],\n",
              "       [0.        ],\n",
              "       [0.48693426]])"
            ]
          },
          "metadata": {},
          "execution_count": 20
        }
      ]
    },
    {
      "cell_type": "code",
      "source": [
        "np.argsort(similarities,axis=0)"
      ],
      "metadata": {
        "id": "de7cFcx1o_D3",
        "outputId": "3ecba5b2-51de-4da2-8bc2-a807328c2bfc",
        "colab": {
          "base_uri": "https://localhost:8080/"
        }
      },
      "execution_count": 28,
      "outputs": [
        {
          "output_type": "execute_result",
          "data": {
            "text/plain": [
              "array([[0],\n",
              "       [2],\n",
              "       [3],\n",
              "       [1]])"
            ]
          },
          "metadata": {},
          "execution_count": 28
        }
      ]
    },
    {
      "cell_type": "code",
      "source": [
        "\n",
        "#Ranking\n",
        "ranked_indices=np.argsort(similarities,axis=0)[::-1].flatten()"
      ],
      "metadata": {
        "id": "GYkG1oFjrDYT"
      },
      "execution_count": 26,
      "outputs": []
    },
    {
      "cell_type": "code",
      "source": [
        "ranked_documents = [documents[i] for i in ranked_indices]"
      ],
      "metadata": {
        "id": "7BtQbSoFpK3G"
      },
      "execution_count": 27,
      "outputs": []
    },
    {
      "cell_type": "code",
      "source": [
        "\n",
        "# Output the ranked documents\n",
        "for i, doc in enumerate(ranked_documents):\n",
        "    print(f\"Rank {i+1}: {doc}\")"
      ],
      "metadata": {
        "id": "nmGAG9IzpVMV",
        "outputId": "477f0976-5229-4bd4-8bdf-676bf61d2768",
        "colab": {
          "base_uri": "https://localhost:8080/"
        }
      },
      "execution_count": 29,
      "outputs": [
        {
          "output_type": "stream",
          "name": "stdout",
          "text": [
            "Rank 1: Keywords are important for keyword-based search.\n",
            "Rank 2: Keyword-based search relies on sparse embeddings.\n",
            "Rank 3: Document analysis involves extracting keywords.\n",
            "Rank 4: This is a list which containig sample documents.\n"
          ]
        }
      ]
    },
    {
      "cell_type": "code",
      "source": [
        "#https://huggingface.co/sentence-transformers"
      ],
      "metadata": {
        "id": "pLby3rrbrYTT"
      },
      "execution_count": 30,
      "outputs": []
    },
    {
      "cell_type": "code",
      "source": [
        "\n",
        "document_embeddings = np.array([\n",
        "    [0.634, 0.234, 0.867, 0.042, 0.249],\n",
        "    [0.123, 0.456, 0.789, 0.321, 0.654],\n",
        "    [0.987, 0.654, 0.321, 0.123, 0.456]\n",
        "])"
      ],
      "metadata": {
        "id": "Tuyxr1nDrv6W"
      },
      "execution_count": 31,
      "outputs": []
    },
    {
      "cell_type": "code",
      "source": [
        "\n",
        "# Sample search query (represented as a dense vector)\n",
        "query_embedding = np.array([[0.789, 0.321, 0.654, 0.987, 0.123]])"
      ],
      "metadata": {
        "id": "oZp58B3YrypV"
      },
      "execution_count": 32,
      "outputs": []
    },
    {
      "cell_type": "code",
      "source": [
        "\n",
        "# Calculate cosine similarity between query and documents\n",
        "similarities = cosine_similarity(document_embeddings, query_embedding)"
      ],
      "metadata": {
        "id": "p8rNmqC2r1Hw"
      },
      "execution_count": 33,
      "outputs": []
    },
    {
      "cell_type": "code",
      "source": [
        "similarities"
      ],
      "metadata": {
        "id": "wwvdz6chr3d3",
        "outputId": "a9957115-15ae-4499-b552-bbcebc407bfd",
        "colab": {
          "base_uri": "https://localhost:8080/"
        }
      },
      "execution_count": 34,
      "outputs": [
        {
          "output_type": "execute_result",
          "data": {
            "text/plain": [
              "array([[0.73558979],\n",
              "       [0.67357898],\n",
              "       [0.71517305]])"
            ]
          },
          "metadata": {},
          "execution_count": 34
        }
      ]
    },
    {
      "cell_type": "code",
      "source": [
        "ranked_indices = np.argsort(similarities, axis=0)[::-1].flatten()"
      ],
      "metadata": {
        "id": "3HvIK--tr8xb"
      },
      "execution_count": 35,
      "outputs": []
    },
    {
      "cell_type": "code",
      "source": [
        "\n",
        "# Output the ranked documents\n",
        "for i, idx in enumerate(ranked_indices):\n",
        "    print(f\"Rank {i+1}: Document {idx+1}\")"
      ],
      "metadata": {
        "id": "3qxQMTDzr_vX",
        "outputId": "bab76255-e4f3-4dfb-8626-60a67a828bcc",
        "colab": {
          "base_uri": "https://localhost:8080/"
        }
      },
      "execution_count": 36,
      "outputs": [
        {
          "output_type": "stream",
          "name": "stdout",
          "text": [
            "Rank 1: Document 1\n",
            "Rank 2: Document 3\n",
            "Rank 3: Document 2\n"
          ]
        }
      ]
    },
    {
      "cell_type": "code",
      "source": [],
      "metadata": {
        "id": "l7FP_X3QsDlr"
      },
      "execution_count": null,
      "outputs": []
    }
  ]
}